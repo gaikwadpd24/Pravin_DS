{
 "cells": [
  {
   "cell_type": "markdown",
   "id": "1d8df0c0",
   "metadata": {},
   "source": [
    "# 1). Create a tuple called data with two values, (1, 2) and (3, 4)"
   ]
  },
  {
   "cell_type": "code",
   "execution_count": 1,
   "id": "7a4f381f",
   "metadata": {},
   "outputs": [
    {
     "name": "stdout",
     "output_type": "stream",
     "text": [
      "((1, 2), (3, 4))\n"
     ]
    },
    {
     "data": {
      "text/plain": [
       "tuple"
      ]
     },
     "execution_count": 1,
     "metadata": {},
     "output_type": "execute_result"
    }
   ],
   "source": [
    "data = ((1,2),(3,4) )\n",
    "print(data)\n",
    "type(data)\n"
   ]
  },
  {
   "cell_type": "code",
   "execution_count": 2,
   "id": "15dda242",
   "metadata": {},
   "outputs": [],
   "source": [
    " 2). Create the list [4, 3, 2, 1] and assign it to variable numbers."
   ]
  },
  {
   "cell_type": "markdown",
   "id": "fe3235a3",
   "metadata": {},
   "source": [
    "# 2). Create the list [4, 3, 2, 1] and assign it to variable numbers."
   ]
  },
  {
   "cell_type": "code",
   "execution_count": 3,
   "id": "e65f33d8",
   "metadata": {},
   "outputs": [
    {
     "name": "stdout",
     "output_type": "stream",
     "text": [
      "[4, 3, 2, 1]\n"
     ]
    },
    {
     "data": {
      "text/plain": [
       "list"
      ]
     },
     "execution_count": 3,
     "metadata": {},
     "output_type": "execute_result"
    }
   ],
   "source": [
    "numbers=[4,3,2,1]\n",
    "print(numbers)\n",
    "type(numbers)"
   ]
  },
  {
   "cell_type": "markdown",
   "id": "08838ab8",
   "metadata": {},
   "source": [
    "# 3). Create a copy of the number list using [:]"
   ]
  },
  {
   "cell_type": "code",
   "execution_count": 4,
   "id": "409ec0b2",
   "metadata": {},
   "outputs": [
    {
     "data": {
      "text/plain": [
       "[4, 3, 2, 1]"
      ]
     },
     "execution_count": 4,
     "metadata": {},
     "output_type": "execute_result"
    }
   ],
   "source": [
    "numbers_copy=numbers[:]\n",
    "numbers_copy\n"
   ]
  },
  {
   "cell_type": "markdown",
   "id": "d84b4792",
   "metadata": {},
   "source": [
    "# 4). Sort the numbers list in numerical order"
   ]
  },
  {
   "cell_type": "code",
   "execution_count": 5,
   "id": "746b906f",
   "metadata": {},
   "outputs": [
    {
     "data": {
      "text/plain": [
       "[1, 2, 3, 4]"
      ]
     },
     "execution_count": 5,
     "metadata": {},
     "output_type": "execute_result"
    }
   ],
   "source": [
    "numbers.sort()\n",
    "numbers"
   ]
  },
  {
   "cell_type": "markdown",
   "id": "bce7dc13",
   "metadata": {},
   "source": [
    "# 5). Create a tuple \"cardinal_numbers\" with \"first\", \"second\" and \"third\""
   ]
  },
  {
   "cell_type": "code",
   "execution_count": 7,
   "id": "f268a3a6",
   "metadata": {},
   "outputs": [
    {
     "data": {
      "text/plain": [
       "('first', 'second', 'third')"
      ]
     },
     "execution_count": 7,
     "metadata": {},
     "output_type": "execute_result"
    }
   ],
   "source": [
    "cardinal_numbers=('first','second','third')\n",
    "cardinal_numbers"
   ]
  },
  {
   "cell_type": "markdown",
   "id": "d68da3f6",
   "metadata": {},
   "source": [
    "# 6) Display the second object in the above tuple"
   ]
  },
  {
   "cell_type": "code",
   "execution_count": 9,
   "id": "9b60adf7",
   "metadata": {},
   "outputs": [
    {
     "data": {
      "text/plain": [
       "'second'"
      ]
     },
     "execution_count": 9,
     "metadata": {},
     "output_type": "execute_result"
    }
   ],
   "source": [
    "\n",
    "cardinal_numbers[1]"
   ]
  },
  {
   "cell_type": "markdown",
   "id": "ec218095",
   "metadata": {},
   "source": [
    "# 7). Unpack the tuple into three strings and display them"
   ]
  },
  {
   "cell_type": "code",
   "execution_count": 10,
   "id": "9ee7f1b0",
   "metadata": {},
   "outputs": [
    {
     "name": "stdout",
     "output_type": "stream",
     "text": [
      "first\n",
      "second\n",
      "third\n"
     ]
    }
   ],
   "source": [
    "position1,position2,position3=cardinal_numbers\n",
    "print(position1)\n",
    "print(position2)\n",
    "print(position3)"
   ]
  },
  {
   "cell_type": "markdown",
   "id": "13728f75",
   "metadata": {},
   "source": [
    "# 8). Create a tuple containing the letters of your name from a string"
   ]
  },
  {
   "cell_type": "code",
   "execution_count": 12,
   "id": "efc04634",
   "metadata": {},
   "outputs": [
    {
     "data": {
      "text/plain": [
       "('P', 'r', 'a', 'v', 'i', 'n')"
      ]
     },
     "execution_count": 12,
     "metadata": {},
     "output_type": "execute_result"
    }
   ],
   "source": [
    "my_name=tuple(\"Pravin\")\n",
    "my_name"
   ]
  },
  {
   "cell_type": "markdown",
   "id": "f3fd26d9",
   "metadata": {},
   "source": [
    "# 9). Check whether or not x is in my_name"
   ]
  },
  {
   "cell_type": "code",
   "execution_count": 13,
   "id": "4bdecd32",
   "metadata": {},
   "outputs": [
    {
     "name": "stdout",
     "output_type": "stream",
     "text": [
      "False\n"
     ]
    }
   ],
   "source": [
    "print(\"x\" in my_name)\n"
   ]
  },
  {
   "cell_type": "markdown",
   "id": "fb862117",
   "metadata": {},
   "source": [
    "# 10). Check whether or not s is in my_name"
   ]
  },
  {
   "cell_type": "code",
   "execution_count": 14,
   "id": "7828b8b8",
   "metadata": {},
   "outputs": [
    {
     "name": "stdout",
     "output_type": "stream",
     "text": [
      "False\n"
     ]
    }
   ],
   "source": [
    "print(\"s\" in my_name)\n"
   ]
  },
  {
   "cell_type": "code",
   "execution_count": 15,
   "id": "4bba0d74",
   "metadata": {},
   "outputs": [
    {
     "name": "stdout",
     "output_type": "stream",
     "text": [
      "True\n"
     ]
    }
   ],
   "source": [
    "print(\"s\" not in my_name)\n"
   ]
  }
 ],
 "metadata": {
  "kernelspec": {
   "display_name": "Python 3 (ipykernel)",
   "language": "python",
   "name": "python3"
  },
  "language_info": {
   "codemirror_mode": {
    "name": "ipython",
    "version": 3
   },
   "file_extension": ".py",
   "mimetype": "text/x-python",
   "name": "python",
   "nbconvert_exporter": "python",
   "pygments_lexer": "ipython3",
   "version": "3.10.9"
  }
 },
 "nbformat": 4,
 "nbformat_minor": 5
}
